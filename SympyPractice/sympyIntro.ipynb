{
 "cells": [
  {
   "cell_type": "code",
   "execution_count": null,
   "id": "0dd75efa",
   "metadata": {},
   "outputs": [],
   "source": [
    "# Symbolic computation systems or computer algebra systems or just CASs"
   ]
  },
  {
   "cell_type": "code",
   "execution_count": null,
   "id": "3e278b33",
   "metadata": {},
   "outputs": [
    {
     "data": {
      "text/plain": [
       "3.0"
      ]
     },
     "execution_count": 1,
     "metadata": {},
     "output_type": "execute_result"
    }
   ],
   "source": [
    "\n",
    "# built in\n",
    "import math\n",
    "math.sqrt(9) # perfect square\n"
   ]
  },
  {
   "cell_type": "code",
   "execution_count": null,
   "id": "a3ecbc40",
   "metadata": {},
   "outputs": [
    {
     "data": {
      "text/plain": [
       "2.8284271247461903"
      ]
     },
     "execution_count": 2,
     "metadata": {},
     "output_type": "execute_result"
    }
   ],
   "source": [
    "math.sqrt(8) # not a perfect square\n",
    "# If all we cared about was the decimal form of the square root of 8, we would be done."
   ]
  },
  {
   "cell_type": "code",
   "execution_count": 3,
   "id": "2227bab2",
   "metadata": {},
   "outputs": [
    {
     "data": {
      "text/latex": [
       "$\\displaystyle \\sqrt{3}$"
      ],
      "text/plain": [
       "sqrt(3)"
      ]
     },
     "execution_count": 3,
     "metadata": {},
     "output_type": "execute_result"
    }
   ],
   "source": [
    "import sympy\n",
    "# With a symbolic computation system like SymPy, \n",
    "# square roots of numbers that are not perfect squares are left unevaluated by default\n",
    "sympy.sqrt(3)"
   ]
  },
  {
   "cell_type": "code",
   "execution_count": null,
   "id": "a76667f4",
   "metadata": {},
   "outputs": [
    {
     "data": {
      "text/latex": [
       "$\\displaystyle 2 \\sqrt{2}$"
      ],
      "text/plain": [
       "2*sqrt(2)"
      ]
     },
     "execution_count": 4,
     "metadata": {},
     "output_type": "execute_result"
    }
   ],
   "source": [
    "# symbolically simplified results\n",
    "sympy.sqrt(8) # instead of getting same sqrt 8 back"
   ]
  },
  {
   "cell_type": "code",
   "execution_count": null,
   "id": "3a54e160",
   "metadata": {},
   "outputs": [
    {
     "name": "stdout",
     "output_type": "stream",
     "text": [
      "x + 2*y\n"
     ]
    }
   ],
   "source": [
    "# using variables\n",
    "from sympy import symbols\n",
    "x, y = symbols('x y') # it made our variables remain as they're \n",
    "expression = x + 2*y # so they can be used here to build expression\n",
    "print(expression)"
   ]
  },
  {
   "cell_type": "code",
   "execution_count": null,
   "id": "a76e1a31",
   "metadata": {},
   "outputs": [
    {
     "data": {
      "text/latex": [
       "$\\displaystyle x + 2 y + 1$"
      ],
      "text/plain": [
       "x + 2*y + 1"
      ]
     },
     "execution_count": 8,
     "metadata": {},
     "output_type": "execute_result"
    }
   ],
   "source": [
    "expression + 1 # add + 1 in the expression! Note: not saving the result"
   ]
  },
  {
   "cell_type": "code",
   "execution_count": null,
   "id": "54edde1b",
   "metadata": {},
   "outputs": [
    {
     "data": {
      "text/latex": [
       "$\\displaystyle 2 y$"
      ],
      "text/plain": [
       "2*y"
      ]
     },
     "execution_count": 9,
     "metadata": {},
     "output_type": "execute_result"
    }
   ],
   "source": [
    "expression - x # remove x from the expression! Note: not saving the result\n",
    "# in our this result, when we added -x to the expression, the +x already present in the expression,\n",
    "# they got cancelled with each other"
   ]
  },
  {
   "cell_type": "code",
   "execution_count": null,
   "id": "7641c93c",
   "metadata": {},
   "outputs": [
    {
     "data": {
      "text/latex": [
       "$\\displaystyle x \\left(x + 2 y\\right)$"
      ],
      "text/plain": [
       "x*(x + 2*y)"
      ]
     },
     "execution_count": 10,
     "metadata": {},
     "output_type": "execute_result"
    }
   ],
   "source": [
    "x * expression\n",
    "# unsimplified, because SumPy assumes, we may want it this way\n",
    "# only simple calculations are automatically simplified as we saw earlier"
   ]
  },
  {
   "cell_type": "code",
   "execution_count": 14,
   "id": "321d8d41",
   "metadata": {},
   "outputs": [
    {
     "name": "stdout",
     "output_type": "stream",
     "text": [
      "x**2 + 2*x*y\n",
      "x*(x + 2*y)\n"
     ]
    }
   ],
   "source": [
    "# go from one form to the other\n",
    "from sympy import expand, factor\n",
    "\n",
    "expanded_expression = expand(x*expression)\n",
    "\n",
    "print(expanded_expression)\n",
    "\n",
    "undo_expansion = factor(expanded_expression)\n",
    "\n",
    "print(undo_expansion)"
   ]
  }
 ],
 "metadata": {
  "kernelspec": {
   "display_name": "Python 3",
   "language": "python",
   "name": "python3"
  },
  "language_info": {
   "codemirror_mode": {
    "name": "ipython",
    "version": 3
   },
   "file_extension": ".py",
   "mimetype": "text/x-python",
   "name": "python",
   "nbconvert_exporter": "python",
   "pygments_lexer": "ipython3",
   "version": "3.11.9"
  }
 },
 "nbformat": 4,
 "nbformat_minor": 5
}
